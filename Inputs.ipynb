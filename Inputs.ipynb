{
 "cells": [
  {
   "cell_type": "code",
   "execution_count": 1,
   "metadata": {},
   "outputs": [
    {
     "name": "stdout",
     "output_type": "stream",
     "text": [
      "40 .1225 .1225 .2 0.5 -spectrum True -tol -5 -Nphot 3 -L 190 -endt 40000 -dt .05 -spec_cutoff 1052 -Om_e 0.01\n",
      "\n",
      "41 .1225 .1225 .2 0.5 -spectrum True -tol -5 -Nphot 3 -L 200 -endt 40000 -dt .05 -spec_cutoff 1000 -Om_e 0.01\n",
      "\n",
      "42 .1225 .1225 .2 0.5 -spectrum True -tol -5 -Nphot 3 -L 210 -endt 40000 -dt .05 -spec_cutoff 952 -Om_e 0.01\n",
      "\n",
      "43 .1225 .1225 .2 0.5 -spectrum True -tol -5 -Nphot 3 -L 220 -endt 40000 -dt .05 -spec_cutoff 909 -Om_e 0.01\n",
      "\n",
      "44 .1225 .1225 .2 0.5 -spectrum True -tol -5 -Nphot 3 -L 230 -endt 40000 -dt .05 -spec_cutoff 869 -Om_e 0.01\n",
      "\n",
      "45 .1225 .1225 .2 0.5 -spectrum True -tol -5 -Nphot 3 -L 240 -endt 40000 -dt .05 -spec_cutoff 833 -Om_e 0.01\n",
      "\n",
      "46 .1225 .1225 .2 0.5 -spectrum True -tol -5 -Nphot 3 -L 250 -endt 40000 -dt .05 -spec_cutoff 800 -Om_e 0.01\n",
      "\n",
      "47 .1225 .1225 .2 0.5 -spectrum True -tol -5 -Nphot 3 -L 260 -endt 40000 -dt .05 -spec_cutoff 769 -Om_e 0.01\n",
      "\n",
      "48 .1225 .1225 .2 0.5 -spectrum True -tol -5 -Nphot 3 -L 270 -endt 40000 -dt .05 -spec_cutoff 740 -Om_e 0.01\n",
      "\n",
      "49 .1225 .1225 .2 0.5 -spectrum True -tol -5 -Nphot 3 -L 280 -endt 40000 -dt .05 -spec_cutoff 714 -Om_e 0.01\n",
      "\n",
      "50 .1225 .1225 .2 0.5 -spectrum True -tol -5 -Nphot 3 -L 290 -endt 40000 -dt .05 -spec_cutoff 689 -Om_e 0.01\n",
      "\n"
     ]
    }
   ],
   "source": [
    "import numpy as np\n",
    "in_f = open(\"input files/input_specs.dat\", 'w+')\n",
    "#L = np.arange(1,20)*20\n",
    "L = np.arange(19,30)*10\n",
    "cutoff = (200000/L)\n",
    "\n",
    "NL = len(L)\n",
    "\n",
    "#for ik in range(len(kap)):\n",
    "for iL in range(NL):\n",
    "    N = iL+40\n",
    "    line = (str(N) + \" .1225 .1225 .2 0.5 -spectrum True -tol -5 -Nphot 3 -L \" + str(L[iL])\n",
    "            + \" -endt 40000 -dt .05 -spec_cutoff \"+str(int(cutoff[iL]))+\" -Om_e 0.01\\n\")\n",
    "    print(line)\n",
    "    in_f.write(line)\n",
    "in_f.close()"
   ]
  },
  {
   "cell_type": "code",
   "execution_count": 8,
   "metadata": {},
   "outputs": [
    {
     "name": "stdout",
     "output_type": "stream",
     "text": [
      "51 .1225 .1225 .2 0.0 -spectrum True -tol -5 -Nphot 3 -L 16 -endt 40000 -dt .05 -spec_cutoff 12500 -Om_e 0.01\n",
      "\n",
      "52 .1225 .1225 .2 0.5 -spectrum True -tol -5 -Nphot 3 -L 8 -endt 40000 -dt .05 -spec_cutoff 25000 -Om_e 0.01\n",
      "\n",
      "53 .1225 .1225 .2 1.0 -spectrum True -tol -5 -Nphot 3 -L 32 -endt 40000 -dt .05 -spec_cutoff 6250 -Om_e 0.01\n",
      "\n",
      "54 .1225 .1225 .2 1.5 -spectrum True -tol -5 -Nphot 3 -L 24 -endt 40000 -dt .05 -spec_cutoff 8333 -Om_e 0.01\n",
      "\n"
     ]
    }
   ],
   "source": [
    "import numpy as np\n",
    "in_f = open(\"input files/input_specs2.dat\", 'w+')\n",
    "#L = np.arange(1,20)*20\n",
    "phi = np.array([0.,0.5,1.,1.5])\n",
    "L = np.array([16,8,32,24])\n",
    "cutoff = (200000/L)\n",
    "\n",
    "NL = len(L)\n",
    "\n",
    "#for ik in range(len(kap)):\n",
    "for iL in range(NL):\n",
    "    N = iL+51\n",
    "    line = (str(N) + \" .1225 .1225 .2 \"+str(phi[iL])+\" -spectrum True -tol -5 -Nphot 3 -L \" + str(L[iL])\n",
    "            + \" -endt 40000 -dt .05 -spec_cutoff \"+str(int(cutoff[iL]))+\" -Om_e 0.01\\n\")\n",
    "    print(line)\n",
    "    in_f.write(line)\n",
    "in_f.close()"
   ]
  },
  {
   "cell_type": "code",
   "execution_count": null,
   "metadata": {},
   "outputs": [],
   "source": []
  }
 ],
 "metadata": {
  "kernelspec": {
   "display_name": "Python 3",
   "language": "python",
   "name": "python3"
  },
  "language_info": {
   "codemirror_mode": {
    "name": "ipython",
    "version": 3
   },
   "file_extension": ".py",
   "mimetype": "text/x-python",
   "name": "python",
   "nbconvert_exporter": "python",
   "pygments_lexer": "ipython3",
   "version": "3.5.6"
  }
 },
 "nbformat": 4,
 "nbformat_minor": 2
}
