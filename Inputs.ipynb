{
 "cells": [
  {
   "cell_type": "code",
   "execution_count": 7,
   "metadata": {},
   "outputs": [
    {
     "name": "stdout",
     "output_type": "stream",
     "text": [
      "25 .1225 .11 .2 0.5 -spectrum True -tol -6 -Nphot 4 -L 120 -endt 40000 -dt .05 -spec_cutoff 1666 -Om_e 0.01\n",
      "\n",
      "26 .1225 .11 .2 0.5 -spectrum True -tol -6 -Nphot 4 -L 140 -endt 40000 -dt .05 -spec_cutoff 1428 -Om_e 0.01\n",
      "\n",
      "27 .1225 .11 .2 0.5 -spectrum True -tol -6 -Nphot 4 -L 160 -endt 40000 -dt .05 -spec_cutoff 1250 -Om_e 0.01\n",
      "\n",
      "28 .1225 .11 .2 0.5 -spectrum True -tol -6 -Nphot 4 -L 180 -endt 40000 -dt .05 -spec_cutoff 1111 -Om_e 0.01\n",
      "\n",
      "29 .1225 .11 .2 0.5 -spectrum True -tol -6 -Nphot 4 -L 200 -endt 40000 -dt .05 -spec_cutoff 1000 -Om_e 0.01\n",
      "\n"
     ]
    }
   ],
   "source": [
    "import numpy as np\n",
    "in_f = open(\"input files/input_specs.dat\", 'w+')\n",
    "L = np.arange(1,20)*20\n",
    "L = np.arange(6,11)*20\n",
    "cutoff = (200000/L)\n",
    "\n",
    "NL = len(L)\n",
    "\n",
    "#for ik in range(len(kap)):\n",
    "for iL in range(NL):\n",
    "    N = iL+25\n",
    "    line = (str(N) + \" .1225 .11 .2 0.5 -spectrum True -tol -6 -Nphot 4 -L \" + str(L[iL])\n",
    "            + \" -endt 40000 -dt .05 -spec_cutoff \"+str(int(cutoff[iL]))+\" -Om_e 0.01\\n\")\n",
    "    print(line)\n",
    "    in_f.write(line)\n",
    "in_f.close()"
   ]
  },
  {
   "cell_type": "code",
   "execution_count": null,
   "metadata": {},
   "outputs": [],
   "source": []
  }
 ],
 "metadata": {
  "kernelspec": {
   "display_name": "Python 3",
   "language": "python",
   "name": "python3"
  },
  "language_info": {
   "codemirror_mode": {
    "name": "ipython",
    "version": 3
   },
   "file_extension": ".py",
   "mimetype": "text/x-python",
   "name": "python",
   "nbconvert_exporter": "python",
   "pygments_lexer": "ipython3",
   "version": "3.5.6"
  }
 },
 "nbformat": 4,
 "nbformat_minor": 2
}
