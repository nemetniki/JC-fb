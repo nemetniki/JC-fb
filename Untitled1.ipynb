{
 "cells": [
  {
   "cell_type": "code",
   "execution_count": 4,
   "metadata": {},
   "outputs": [],
   "source": [
    "import numpy as np\n",
    "in_f = open(\"input files/input_specs.dat\", 'w+')\n",
    "L = np.array([6,8,10,12,14,17,20,25,30,60,100])\n",
    "\n",
    "NL = len(L)\n",
    "\n",
    "#for ik in range(len(kap)):\n",
    "for iL in range(NL):\n",
    "    N = iL+10\n",
    "    line = (str(N) + \" .1225 .1225 .2 0.5 -spectrum True -tol -5 -Nphot 3 -L \" + str(L[iL])\n",
    "            + \" -endt 10000 -dt .5 -spec_cutoff 400 -Om_e 0.01\\n\")\n",
    "#print(line)\n",
    "    in_f.write(line)\n",
    "in_f.close()"
   ]
  },
  {
   "cell_type": "code",
   "execution_count": null,
   "metadata": {},
   "outputs": [],
   "source": []
  }
 ],
 "metadata": {
  "kernelspec": {
   "display_name": "Python 3",
   "language": "python",
   "name": "python3"
  },
  "language_info": {
   "codemirror_mode": {
    "name": "ipython",
    "version": 3
   },
   "file_extension": ".py",
   "mimetype": "text/x-python",
   "name": "python",
   "nbconvert_exporter": "python",
   "pygments_lexer": "ipython3",
   "version": "3.5.6"
  }
 },
 "nbformat": 4,
 "nbformat_minor": 2
}
